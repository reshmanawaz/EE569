{
  "nbformat": 4,
  "nbformat_minor": 0,
  "metadata": {
    "colab": {
      "provenance": []
    },
    "kernelspec": {
      "name": "python3",
      "display_name": "Python 3"
    },
    "language_info": {
      "name": "python"
    }
  },
  "cells": [
    {
      "cell_type": "code",
      "execution_count": 1,
      "metadata": {
        "colab": {
          "base_uri": "https://localhost:8080/",
          "height": 1000
        },
        "id": "ToBR9F6pWzg2",
        "outputId": "09f31ff5-7fd3-4dd4-f5bd-3130d620298d"
      },
      "outputs": [
        {
          "output_type": "stream",
          "name": "stdout",
          "text": [
            "Downloading http://fashion-mnist.s3-website.eu-central-1.amazonaws.com/train-images-idx3-ubyte.gz\n",
            "Downloading http://fashion-mnist.s3-website.eu-central-1.amazonaws.com/train-images-idx3-ubyte.gz to ./data/FashionMNIST/raw/train-images-idx3-ubyte.gz\n"
          ]
        },
        {
          "output_type": "stream",
          "name": "stderr",
          "text": [
            "100%|██████████| 26421880/26421880 [00:02<00:00, 11819968.11it/s]\n"
          ]
        },
        {
          "output_type": "stream",
          "name": "stdout",
          "text": [
            "Extracting ./data/FashionMNIST/raw/train-images-idx3-ubyte.gz to ./data/FashionMNIST/raw\n",
            "\n",
            "Downloading http://fashion-mnist.s3-website.eu-central-1.amazonaws.com/train-labels-idx1-ubyte.gz\n",
            "Downloading http://fashion-mnist.s3-website.eu-central-1.amazonaws.com/train-labels-idx1-ubyte.gz to ./data/FashionMNIST/raw/train-labels-idx1-ubyte.gz\n"
          ]
        },
        {
          "output_type": "stream",
          "name": "stderr",
          "text": [
            "100%|██████████| 29515/29515 [00:00<00:00, 208218.20it/s]\n"
          ]
        },
        {
          "output_type": "stream",
          "name": "stdout",
          "text": [
            "Extracting ./data/FashionMNIST/raw/train-labels-idx1-ubyte.gz to ./data/FashionMNIST/raw\n",
            "\n",
            "Downloading http://fashion-mnist.s3-website.eu-central-1.amazonaws.com/t10k-images-idx3-ubyte.gz\n",
            "Downloading http://fashion-mnist.s3-website.eu-central-1.amazonaws.com/t10k-images-idx3-ubyte.gz to ./data/FashionMNIST/raw/t10k-images-idx3-ubyte.gz\n"
          ]
        },
        {
          "output_type": "stream",
          "name": "stderr",
          "text": [
            "100%|██████████| 4422102/4422102 [00:01<00:00, 3886117.07it/s]\n"
          ]
        },
        {
          "output_type": "stream",
          "name": "stdout",
          "text": [
            "Extracting ./data/FashionMNIST/raw/t10k-images-idx3-ubyte.gz to ./data/FashionMNIST/raw\n",
            "\n",
            "Downloading http://fashion-mnist.s3-website.eu-central-1.amazonaws.com/t10k-labels-idx1-ubyte.gz\n",
            "Downloading http://fashion-mnist.s3-website.eu-central-1.amazonaws.com/t10k-labels-idx1-ubyte.gz to ./data/FashionMNIST/raw/t10k-labels-idx1-ubyte.gz\n"
          ]
        },
        {
          "output_type": "stream",
          "name": "stderr",
          "text": [
            "100%|██████████| 5148/5148 [00:00<00:00, 5223095.55it/s]\n"
          ]
        },
        {
          "output_type": "stream",
          "name": "stdout",
          "text": [
            "Extracting ./data/FashionMNIST/raw/t10k-labels-idx1-ubyte.gz to ./data/FashionMNIST/raw\n",
            "\n",
            "Data loaded successfully...\n"
          ]
        },
        {
          "output_type": "stream",
          "name": "stderr",
          "text": [
            "/usr/lib/python3.10/multiprocessing/popen_fork.py:66: RuntimeWarning: os.fork() was called. os.fork() is incompatible with multithreaded code, and JAX is multithreaded, so this will likely lead to a deadlock.\n",
            "  self.pid = os.fork()\n"
          ]
        },
        {
          "output_type": "stream",
          "name": "stdout",
          "text": [
            "[epoch 1, iter   200] loss: 1.019\n",
            "[epoch 1, iter   400] loss: 0.612\n",
            "[epoch 1, iter   600] loss: 0.531\n",
            "[epoch 1, iter   800] loss: 0.470\n"
          ]
        },
        {
          "output_type": "stream",
          "name": "stderr",
          "text": [
            "/usr/lib/python3.10/multiprocessing/popen_fork.py:66: RuntimeWarning: os.fork() was called. os.fork() is incompatible with multithreaded code, and JAX is multithreaded, so this will likely lead to a deadlock.\n",
            "  self.pid = os.fork()\n"
          ]
        },
        {
          "output_type": "stream",
          "name": "stdout",
          "text": [
            "epoch 1: train_acc 85.062, test_acc 84.190\n",
            "[epoch 2, iter   200] loss: 0.414\n",
            "[epoch 2, iter   400] loss: 0.384\n",
            "[epoch 2, iter   600] loss: 0.381\n",
            "[epoch 2, iter   800] loss: 0.368\n",
            "epoch 2: train_acc 86.522, test_acc 85.320\n",
            "[epoch 3, iter   200] loss: 0.332\n",
            "[epoch 3, iter   400] loss: 0.328\n",
            "[epoch 3, iter   600] loss: 0.320\n",
            "[epoch 3, iter   800] loss: 0.302\n",
            "epoch 3: train_acc 89.043, test_acc 87.370\n",
            "[epoch 4, iter   200] loss: 0.295\n",
            "[epoch 4, iter   400] loss: 0.297\n",
            "[epoch 4, iter   600] loss: 0.289\n",
            "[epoch 4, iter   800] loss: 0.275\n",
            "epoch 4: train_acc 90.237, test_acc 89.030\n",
            "[epoch 5, iter   200] loss: 0.262\n",
            "[epoch 5, iter   400] loss: 0.266\n",
            "[epoch 5, iter   600] loss: 0.262\n",
            "[epoch 5, iter   800] loss: 0.271\n",
            "epoch 5: train_acc 91.405, test_acc 89.740\n",
            "[epoch 6, iter   200] loss: 0.241\n",
            "[epoch 6, iter   400] loss: 0.251\n",
            "[epoch 6, iter   600] loss: 0.249\n",
            "[epoch 6, iter   800] loss: 0.248\n",
            "epoch 6: train_acc 91.542, test_acc 89.360\n",
            "[epoch 7, iter   200] loss: 0.227\n",
            "[epoch 7, iter   400] loss: 0.229\n",
            "[epoch 7, iter   600] loss: 0.223\n",
            "[epoch 7, iter   800] loss: 0.240\n",
            "epoch 7: train_acc 92.448, test_acc 90.170\n",
            "[epoch 8, iter   200] loss: 0.216\n",
            "[epoch 8, iter   400] loss: 0.216\n",
            "[epoch 8, iter   600] loss: 0.221\n",
            "[epoch 8, iter   800] loss: 0.220\n",
            "epoch 8: train_acc 92.933, test_acc 89.960\n",
            "[epoch 9, iter   200] loss: 0.190\n",
            "[epoch 9, iter   400] loss: 0.211\n",
            "[epoch 9, iter   600] loss: 0.206\n",
            "[epoch 9, iter   800] loss: 0.202\n",
            "epoch 9: train_acc 93.380, test_acc 90.600\n",
            "[epoch 10, iter   200] loss: 0.183\n",
            "[epoch 10, iter   400] loss: 0.191\n",
            "[epoch 10, iter   600] loss: 0.190\n",
            "[epoch 10, iter   800] loss: 0.199\n",
            "epoch 10: train_acc 94.102, test_acc 90.750\n",
            "[epoch 11, iter   200] loss: 0.178\n",
            "[epoch 11, iter   400] loss: 0.183\n",
            "[epoch 11, iter   600] loss: 0.177\n",
            "[epoch 11, iter   800] loss: 0.177\n",
            "epoch 11: train_acc 93.905, test_acc 90.480\n",
            "[epoch 12, iter   200] loss: 0.164\n",
            "[epoch 12, iter   400] loss: 0.172\n",
            "[epoch 12, iter   600] loss: 0.170\n",
            "[epoch 12, iter   800] loss: 0.172\n",
            "epoch 12: train_acc 94.470, test_acc 90.770\n",
            "[epoch 13, iter   200] loss: 0.153\n",
            "[epoch 13, iter   400] loss: 0.158\n",
            "[epoch 13, iter   600] loss: 0.162\n",
            "[epoch 13, iter   800] loss: 0.166\n",
            "epoch 13: train_acc 94.720, test_acc 90.770\n",
            "[epoch 14, iter   200] loss: 0.142\n",
            "[epoch 14, iter   400] loss: 0.151\n",
            "[epoch 14, iter   600] loss: 0.153\n",
            "[epoch 14, iter   800] loss: 0.164\n",
            "epoch 14: train_acc 95.105, test_acc 90.650\n",
            "[epoch 15, iter   200] loss: 0.135\n",
            "[epoch 15, iter   400] loss: 0.147\n",
            "[epoch 15, iter   600] loss: 0.144\n",
            "[epoch 15, iter   800] loss: 0.145\n",
            "epoch 15: train_acc 95.173, test_acc 90.630\n",
            "[epoch 16, iter   200] loss: 0.135\n",
            "[epoch 16, iter   400] loss: 0.127\n",
            "[epoch 16, iter   600] loss: 0.141\n",
            "[epoch 16, iter   800] loss: 0.139\n",
            "epoch 16: train_acc 95.362, test_acc 90.810\n",
            "[epoch 17, iter   200] loss: 0.120\n",
            "[epoch 17, iter   400] loss: 0.131\n",
            "[epoch 17, iter   600] loss: 0.127\n",
            "[epoch 17, iter   800] loss: 0.131\n",
            "epoch 17: train_acc 95.198, test_acc 90.360\n",
            "[epoch 18, iter   200] loss: 0.116\n",
            "[epoch 18, iter   400] loss: 0.118\n",
            "[epoch 18, iter   600] loss: 0.121\n",
            "[epoch 18, iter   800] loss: 0.127\n",
            "epoch 18: train_acc 96.402, test_acc 90.860\n",
            "[epoch 19, iter   200] loss: 0.103\n",
            "[epoch 19, iter   400] loss: 0.108\n",
            "[epoch 19, iter   600] loss: 0.117\n",
            "[epoch 19, iter   800] loss: 0.117\n",
            "epoch 19: train_acc 96.262, test_acc 90.820\n",
            "[epoch 20, iter   200] loss: 0.104\n",
            "[epoch 20, iter   400] loss: 0.110\n",
            "[epoch 20, iter   600] loss: 0.114\n",
            "[epoch 20, iter   800] loss: 0.114\n",
            "epoch 20: train_acc 96.667, test_acc 90.690\n"
          ]
        },
        {
          "output_type": "display_data",
          "data": {
            "text/plain": [
              "<Figure size 640x480 with 1 Axes>"
            ],
            "image/png": "[encoded data removed]"
          },
          "metadata": {}
        }
      ],
      "source": [
        "# Fashion MNIST Dataset\n",
        "import torch\n",
        "import torch.nn as nn\n",
        "import torch.nn.functional as F\n",
        "import torch.optim as optim\n",
        "\n",
        "\n",
        "import torchvision as tv\n",
        "import torchvision.transforms as transforms\n",
        "\n",
        "\n",
        "import matplotlib.pyplot as plt\n",
        "import numpy as np\n",
        "import math\n",
        "import os\n",
        "\n",
        "\n",
        "train_batch_size = 64\n",
        "test_batch_size = 1000\n",
        "\n",
        "\n",
        "class Net(nn.Module):\n",
        "   def __init__(self):\n",
        "       super(Net, self).__init__()\n",
        "       self.conv1 = nn.Conv2d(1, 6, 5, stride=1, padding=2)\n",
        "       self.conv2 = nn.Conv2d(6, 16, 5, stride=1, padding=0)\n",
        "       self.fc1 = nn.Linear(16*5*5, 120)\n",
        "       self.fc2 = nn.Linear(120, 84)\n",
        "       self.fc3 = nn.Linear(84, 10)  # Change from 10 to 10 for Fashion-MNIST\n",
        "   def forward(self, x):\n",
        "       x = F.max_pool2d(F.relu(self.conv1(x)), 2)\n",
        "       x = F.max_pool2d(F.relu(self.conv2(x)), 2)\n",
        "       x = x.view(-1, self.num_flat_features(x))\n",
        "       x = F.relu(self.fc1(x))\n",
        "       x = F.relu(self.fc2(x))\n",
        "       x = self.fc3(x)\n",
        "       return x\n",
        "   def num_flat_features(self, x):\n",
        "       x_size = x.size()[1:]\n",
        "       num = 1\n",
        "       for n in x_size:\n",
        "           num *= n\n",
        "       return num\n",
        "\n",
        "\n",
        "def load_data():\n",
        "   transform = transforms.Compose([\n",
        "       transforms.ToTensor(),\n",
        "       transforms.Normalize((0.5,), (0.5,))  # Adjust normalization for Fashion-MNIST\n",
        "   ])\n",
        "   train_set = tv.datasets.FashionMNIST(\n",
        "       root='./data',\n",
        "       train=True,\n",
        "       download=True,\n",
        "       transform=transform\n",
        "   )\n",
        "   train_loader = torch.utils.data.DataLoader(\n",
        "       train_set,\n",
        "       batch_size=train_batch_size,\n",
        "       shuffle=True,\n",
        "       num_workers=2\n",
        "   )\n",
        "   test_set = tv.datasets.FashionMNIST(\n",
        "       root='./data',\n",
        "       train=False,\n",
        "       download=True,\n",
        "       transform=transform\n",
        "   )\n",
        "   test_loader = torch.utils.data.DataLoader(\n",
        "       test_set,\n",
        "       batch_size=test_batch_size,\n",
        "       shuffle=False,\n",
        "       num_workers=2\n",
        "   )\n",
        "   print(\"Data loaded successfully...\")\n",
        "   return train_loader, test_loader\n",
        "\n",
        "\n",
        "def accuracy(model, x):\n",
        "   with torch.no_grad():\n",
        "       correct = 0\n",
        "       total = 0\n",
        "       for data in x:\n",
        "           images, labels = data\n",
        "           outputs = model(images)\n",
        "           _, predicted = torch.max(outputs.data, 1)\n",
        "           total += labels.size(0)\n",
        "           correct += (predicted == labels).sum().item()\n",
        "\n",
        "\n",
        "       return (100 * correct / total)\n",
        "\n",
        "\n",
        "def train(train_loader, test_loader, model, criterion, optimizer, epoch):\n",
        "   model.train()\n",
        "   running_loss = 0\n",
        "   for i, data in enumerate(train_loader, 0):\n",
        "       inputs, labels = data\n",
        "       optimizer.zero_grad()\n",
        "       outputs = model(inputs)\n",
        "       loss = criterion(outputs, labels)\n",
        "       loss.backward()\n",
        "       optimizer.step()\n",
        "\n",
        "\n",
        "       running_loss += loss.item()\n",
        "       if i % 200 == 199:\n",
        "           print(\"[epoch %d, iter %5d] loss: %.3f\" % (epoch+1, i+1, running_loss / 200))\n",
        "           running_loss = 0.0\n",
        "   train_acc = accuracy(model, train_loader)\n",
        "   test_acc = accuracy(model, test_loader)\n",
        "   print(\"epoch %d: train_acc %.3f, test_acc %.3f\" % (epoch+1, train_acc, test_acc))\n",
        "   return train_acc, test_acc\n",
        "\n",
        "\n",
        "def display(train_acc, test_acc):\n",
        "   fig, ax = plt.subplots()\n",
        "   ax.plot(range(1, len(train_acc) + 1), train_acc, color='r', label='train_acc')\n",
        "   ax.plot(range(1, len(test_acc) + 1), test_acc, color='b', label='test_acc')\n",
        "   ax.legend(loc='lower right')\n",
        "   plt.show()\n",
        "\n",
        "\n",
        "if __name__ == '__main__':\n",
        "   # input Fashion-MNIST\n",
        "   train_loader, test_loader = load_data()\n",
        "   # new model\n",
        "   net = Net()\n",
        "\n",
        "\n",
        "   # training\n",
        "   learning_rate = 0.001\n",
        "   momentum = 0.9\n",
        "   max_epoch = 20\n",
        "   criterion = nn.CrossEntropyLoss()\n",
        "   optimizer = optim.Adam(net.parameters(), lr=learning_rate)\n",
        "\n",
        "\n",
        "   train_acc = []\n",
        "   test_acc = []\n",
        "   for epoch in range(max_epoch):\n",
        "       train_acc_t, test_acc_t = train(train_loader, test_loader, net, criterion, optimizer, epoch)\n",
        "       train_acc.append(train_acc_t)\n",
        "       test_acc.append(test_acc_t)\n",
        "\n",
        "\n",
        "   display(train_acc, test_acc)"
      ]
    }
  ]
}